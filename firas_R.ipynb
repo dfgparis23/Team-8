{
 "cells": [
  {
   "cell_type": "code",
   "execution_count": null,
   "id": "4061d26f-4027-4f54-aa94-9673eabf6e17",
   "metadata": {},
   "outputs": [],
   "source": [
    "Oppotunities = 'datasets/shared_data_read_only/Opportunities.xlsx'\n",
    "Non_Stock = '/home/jupyter-user-4/shared_data_read_only/Non-Stock Items.xlsx'\n",
    "Items_and_Oppotunities = '/home/jupyter-user-7/shared_data_read_only/Items and Opportunities.xlsx'\n",
    "Invoice_and_Oppotunities = '/home/jupyter-user-7/shared_data_read_only/Invoice and Opportunities.xlsx'\n",
    "Data_Dictionary = '/home/jupyter-user-7/shared_data_read_only/Data dictionary.xlsx'\n",
    "Contacts = '/home/jupyter-user-7/shared_data_read_only/Contacts.xlsx'\n",
    "Consumer_price = '/home/jupyter-user-7/shared_data_read_only/consumer_price_index.xlsx'\n",
    "Business_account = '/home/jupyter-user-7/shared_data_read_only/Business Account.xlsx'"
   ]
  },
  {
   "cell_type": "code",
   "execution_count": 1,
   "id": "774eaea3-f7c9-4327-b28f-6b51a08267d8",
   "metadata": {},
   "outputs": [],
   "source": [
    "Oppotunities = 'datasets/shared_data_read_only/Opportunities.xlsx'"
   ]
  },
  {
   "cell_type": "code",
   "execution_count": null,
   "id": "ded814ed-de6b-4d6b-837b-797f36af67d0",
   "metadata": {},
   "outputs": [],
   "source": []
  }
 ],
 "metadata": {
  "kernelspec": {
   "display_name": "R",
   "language": "R",
   "name": "ir"
  },
  "language_info": {
   "codemirror_mode": "r",
   "file_extension": ".r",
   "mimetype": "text/x-r-source",
   "name": "R",
   "pygments_lexer": "r",
   "version": "3.6.1"
  }
 },
 "nbformat": 4,
 "nbformat_minor": 5
}
