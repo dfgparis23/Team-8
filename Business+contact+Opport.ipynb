{
 "cells": [
  {
   "cell_type": "code",
   "execution_count": 1,
   "id": "b1f25983",
   "metadata": {},
   "outputs": [],
   "source": [
    "import pandas as pd"
   ]
  },
  {
   "cell_type": "code",
   "execution_count": 2,
   "id": "6a1d893f",
   "metadata": {},
   "outputs": [
    {
     "ename": "FileNotFoundError",
     "evalue": "[Errno 2] No such file or directory: 'shared_data_read_only/Contacts.xlsx'",
     "output_type": "error",
     "traceback": [
      "\u001b[0;31m---------------------------------------------------------------------------\u001b[0m",
      "\u001b[0;31mFileNotFoundError\u001b[0m                         Traceback (most recent call last)",
      "\u001b[0;32m<ipython-input-2-a7f45e51bbe9>\u001b[0m in \u001b[0;36m<module>\u001b[0;34m\u001b[0m\n\u001b[0;32m----> 1\u001b[0;31m \u001b[0mcontacts\u001b[0m\u001b[0;34m=\u001b[0m\u001b[0mpd\u001b[0m\u001b[0;34m.\u001b[0m\u001b[0mread_excel\u001b[0m\u001b[0;34m(\u001b[0m\u001b[0;34m\"shared_data_read_only/Contacts.xlsx\"\u001b[0m\u001b[0;34m)\u001b[0m\u001b[0;34m\u001b[0m\u001b[0;34m\u001b[0m\u001b[0m\n\u001b[0m\u001b[1;32m      2\u001b[0m \u001b[0mBis_account\u001b[0m\u001b[0;34m=\u001b[0m\u001b[0mpd\u001b[0m\u001b[0;34m.\u001b[0m\u001b[0mread_excel\u001b[0m\u001b[0;34m(\u001b[0m\u001b[0;34m\"shared_data_read_only/Business Account.xlsx\"\u001b[0m\u001b[0;34m)\u001b[0m\u001b[0;34m\u001b[0m\u001b[0;34m\u001b[0m\u001b[0m\n\u001b[1;32m      3\u001b[0m \u001b[0mOpport\u001b[0m\u001b[0;34m=\u001b[0m\u001b[0mpd\u001b[0m\u001b[0;34m.\u001b[0m\u001b[0mread_excel\u001b[0m\u001b[0;34m(\u001b[0m\u001b[0;34m\"shared_data_read_only/Opportunities.xlsx\"\u001b[0m\u001b[0;34m)\u001b[0m\u001b[0;34m\u001b[0m\u001b[0;34m\u001b[0m\u001b[0m\n\u001b[1;32m      4\u001b[0m \u001b[0;34m\u001b[0m\u001b[0m\n\u001b[1;32m      5\u001b[0m \u001b[0mContact_Business\u001b[0m\u001b[0;34m=\u001b[0m\u001b[0mpd\u001b[0m\u001b[0;34m.\u001b[0m\u001b[0mmerge\u001b[0m\u001b[0;34m(\u001b[0m\u001b[0mBis_account\u001b[0m\u001b[0;34m,\u001b[0m\u001b[0mcontacts\u001b[0m\u001b[0;34m,\u001b[0m\u001b[0mon\u001b[0m\u001b[0;34m=\u001b[0m\u001b[0;34m'Business Account'\u001b[0m\u001b[0;34m,\u001b[0m \u001b[0mhow\u001b[0m\u001b[0;34m=\u001b[0m\u001b[0;34m'outer'\u001b[0m\u001b[0;34m)\u001b[0m\u001b[0;34m\u001b[0m\u001b[0;34m\u001b[0m\u001b[0m\n",
      "\u001b[0;32m/opt/tljh/user/lib/python3.7/site-packages/pandas/util/_decorators.py\u001b[0m in \u001b[0;36mwrapper\u001b[0;34m(*args, **kwargs)\u001b[0m\n\u001b[1;32m    297\u001b[0m                 )\n\u001b[1;32m    298\u001b[0m                 \u001b[0mwarnings\u001b[0m\u001b[0;34m.\u001b[0m\u001b[0mwarn\u001b[0m\u001b[0;34m(\u001b[0m\u001b[0mmsg\u001b[0m\u001b[0;34m,\u001b[0m \u001b[0mFutureWarning\u001b[0m\u001b[0;34m,\u001b[0m \u001b[0mstacklevel\u001b[0m\u001b[0;34m=\u001b[0m\u001b[0mstacklevel\u001b[0m\u001b[0;34m)\u001b[0m\u001b[0;34m\u001b[0m\u001b[0;34m\u001b[0m\u001b[0m\n\u001b[0;32m--> 299\u001b[0;31m             \u001b[0;32mreturn\u001b[0m \u001b[0mfunc\u001b[0m\u001b[0;34m(\u001b[0m\u001b[0;34m*\u001b[0m\u001b[0margs\u001b[0m\u001b[0;34m,\u001b[0m \u001b[0;34m**\u001b[0m\u001b[0mkwargs\u001b[0m\u001b[0;34m)\u001b[0m\u001b[0;34m\u001b[0m\u001b[0;34m\u001b[0m\u001b[0m\n\u001b[0m\u001b[1;32m    300\u001b[0m \u001b[0;34m\u001b[0m\u001b[0m\n\u001b[1;32m    301\u001b[0m         \u001b[0;32mreturn\u001b[0m \u001b[0mwrapper\u001b[0m\u001b[0;34m\u001b[0m\u001b[0;34m\u001b[0m\u001b[0m\n",
      "\u001b[0;32m/opt/tljh/user/lib/python3.7/site-packages/pandas/io/excel/_base.py\u001b[0m in \u001b[0;36mread_excel\u001b[0;34m(io, sheet_name, header, names, index_col, usecols, squeeze, dtype, engine, converters, true_values, false_values, skiprows, nrows, na_values, keep_default_na, na_filter, verbose, parse_dates, date_parser, thousands, comment, skipfooter, convert_float, mangle_dupe_cols, storage_options)\u001b[0m\n\u001b[1;32m    334\u001b[0m     \u001b[0;32mif\u001b[0m \u001b[0;32mnot\u001b[0m \u001b[0misinstance\u001b[0m\u001b[0;34m(\u001b[0m\u001b[0mio\u001b[0m\u001b[0;34m,\u001b[0m \u001b[0mExcelFile\u001b[0m\u001b[0;34m)\u001b[0m\u001b[0;34m:\u001b[0m\u001b[0;34m\u001b[0m\u001b[0;34m\u001b[0m\u001b[0m\n\u001b[1;32m    335\u001b[0m         \u001b[0mshould_close\u001b[0m \u001b[0;34m=\u001b[0m \u001b[0;32mTrue\u001b[0m\u001b[0;34m\u001b[0m\u001b[0;34m\u001b[0m\u001b[0m\n\u001b[0;32m--> 336\u001b[0;31m         \u001b[0mio\u001b[0m \u001b[0;34m=\u001b[0m \u001b[0mExcelFile\u001b[0m\u001b[0;34m(\u001b[0m\u001b[0mio\u001b[0m\u001b[0;34m,\u001b[0m \u001b[0mstorage_options\u001b[0m\u001b[0;34m=\u001b[0m\u001b[0mstorage_options\u001b[0m\u001b[0;34m,\u001b[0m \u001b[0mengine\u001b[0m\u001b[0;34m=\u001b[0m\u001b[0mengine\u001b[0m\u001b[0;34m)\u001b[0m\u001b[0;34m\u001b[0m\u001b[0;34m\u001b[0m\u001b[0m\n\u001b[0m\u001b[1;32m    337\u001b[0m     \u001b[0;32melif\u001b[0m \u001b[0mengine\u001b[0m \u001b[0;32mand\u001b[0m \u001b[0mengine\u001b[0m \u001b[0;34m!=\u001b[0m \u001b[0mio\u001b[0m\u001b[0;34m.\u001b[0m\u001b[0mengine\u001b[0m\u001b[0;34m:\u001b[0m\u001b[0;34m\u001b[0m\u001b[0;34m\u001b[0m\u001b[0m\n\u001b[1;32m    338\u001b[0m         raise ValueError(\n",
      "\u001b[0;32m/opt/tljh/user/lib/python3.7/site-packages/pandas/io/excel/_base.py\u001b[0m in \u001b[0;36m__init__\u001b[0;34m(self, path_or_buffer, engine, storage_options)\u001b[0m\n\u001b[1;32m   1070\u001b[0m             \u001b[0;32melse\u001b[0m\u001b[0;34m:\u001b[0m\u001b[0;34m\u001b[0m\u001b[0;34m\u001b[0m\u001b[0m\n\u001b[1;32m   1071\u001b[0m                 ext = inspect_excel_format(\n\u001b[0;32m-> 1072\u001b[0;31m                     \u001b[0mcontent\u001b[0m\u001b[0;34m=\u001b[0m\u001b[0mpath_or_buffer\u001b[0m\u001b[0;34m,\u001b[0m \u001b[0mstorage_options\u001b[0m\u001b[0;34m=\u001b[0m\u001b[0mstorage_options\u001b[0m\u001b[0;34m\u001b[0m\u001b[0;34m\u001b[0m\u001b[0m\n\u001b[0m\u001b[1;32m   1073\u001b[0m                 )\n\u001b[1;32m   1074\u001b[0m \u001b[0;34m\u001b[0m\u001b[0m\n",
      "\u001b[0;32m/opt/tljh/user/lib/python3.7/site-packages/pandas/io/excel/_base.py\u001b[0m in \u001b[0;36minspect_excel_format\u001b[0;34m(path, content, storage_options)\u001b[0m\n\u001b[1;32m    948\u001b[0m \u001b[0;34m\u001b[0m\u001b[0m\n\u001b[1;32m    949\u001b[0m     with get_handle(\n\u001b[0;32m--> 950\u001b[0;31m         \u001b[0mcontent_or_path\u001b[0m\u001b[0;34m,\u001b[0m \u001b[0;34m\"rb\"\u001b[0m\u001b[0;34m,\u001b[0m \u001b[0mstorage_options\u001b[0m\u001b[0;34m=\u001b[0m\u001b[0mstorage_options\u001b[0m\u001b[0;34m,\u001b[0m \u001b[0mis_text\u001b[0m\u001b[0;34m=\u001b[0m\u001b[0;32mFalse\u001b[0m\u001b[0;34m\u001b[0m\u001b[0;34m\u001b[0m\u001b[0m\n\u001b[0m\u001b[1;32m    951\u001b[0m     ) as handle:\n\u001b[1;32m    952\u001b[0m         \u001b[0mstream\u001b[0m \u001b[0;34m=\u001b[0m \u001b[0mhandle\u001b[0m\u001b[0;34m.\u001b[0m\u001b[0mhandle\u001b[0m\u001b[0;34m\u001b[0m\u001b[0;34m\u001b[0m\u001b[0m\n",
      "\u001b[0;32m/opt/tljh/user/lib/python3.7/site-packages/pandas/io/common.py\u001b[0m in \u001b[0;36mget_handle\u001b[0;34m(path_or_buf, mode, encoding, compression, memory_map, is_text, errors, storage_options)\u001b[0m\n\u001b[1;32m    649\u001b[0m         \u001b[0;32melse\u001b[0m\u001b[0;34m:\u001b[0m\u001b[0;34m\u001b[0m\u001b[0;34m\u001b[0m\u001b[0m\n\u001b[1;32m    650\u001b[0m             \u001b[0;31m# Binary mode\u001b[0m\u001b[0;34m\u001b[0m\u001b[0;34m\u001b[0m\u001b[0;34m\u001b[0m\u001b[0m\n\u001b[0;32m--> 651\u001b[0;31m             \u001b[0mhandle\u001b[0m \u001b[0;34m=\u001b[0m \u001b[0mopen\u001b[0m\u001b[0;34m(\u001b[0m\u001b[0mhandle\u001b[0m\u001b[0;34m,\u001b[0m \u001b[0mioargs\u001b[0m\u001b[0;34m.\u001b[0m\u001b[0mmode\u001b[0m\u001b[0;34m)\u001b[0m\u001b[0;34m\u001b[0m\u001b[0;34m\u001b[0m\u001b[0m\n\u001b[0m\u001b[1;32m    652\u001b[0m         \u001b[0mhandles\u001b[0m\u001b[0;34m.\u001b[0m\u001b[0mappend\u001b[0m\u001b[0;34m(\u001b[0m\u001b[0mhandle\u001b[0m\u001b[0;34m)\u001b[0m\u001b[0;34m\u001b[0m\u001b[0;34m\u001b[0m\u001b[0m\n\u001b[1;32m    653\u001b[0m \u001b[0;34m\u001b[0m\u001b[0m\n",
      "\u001b[0;31mFileNotFoundError\u001b[0m: [Errno 2] No such file or directory: 'shared_data_read_only/Contacts.xlsx'"
     ]
    }
   ],
   "source": [
    "contacts=pd.read_excel(\"shared_data_read_only/Contacts.xlsx\")\n",
    "Bis_account=pd.read_excel(\"shared_data_read_only/Business Account.xlsx\")\n",
    "Opport=pd.read_excel(\"shared_data_read_only/Opportunities.xlsx\")\n",
    "\n",
    "Contact_Business=pd.merge(Bis_account,contacts,on='Business Account', how='outer')\n",
    "\n",
    "final_data=pd.merge(Contact_Business,Opport,on=\"Business Account\",how=\"outer\")"
   ]
  },
  {
   "cell_type": "code",
   "execution_count": null,
   "id": "11b490eb",
   "metadata": {},
   "outputs": [],
   "source": [
    "Contact_Business.head(10)"
   ]
  },
  {
   "cell_type": "code",
   "execution_count": null,
   "id": "ff19716c",
   "metadata": {},
   "outputs": [],
   "source": [
    "final_data.to_csv(\"Bus+Contact+Opport.csv\")"
   ]
  },
  {
   "cell_type": "code",
   "execution_count": null,
   "id": "fa2815a7",
   "metadata": {},
   "outputs": [],
   "source": [
    "final_data.shape"
   ]
  },
  {
   "cell_type": "code",
   "execution_count": null,
   "id": "2b4b8e2c",
   "metadata": {},
   "outputs": [],
   "source": [
    "Opport.shape"
   ]
  },
  {
   "cell_type": "code",
   "execution_count": 3,
   "id": "ac665f7e",
   "metadata": {},
   "outputs": [
    {
     "ename": "NameError",
     "evalue": "name 'Bis_account' is not defined",
     "output_type": "error",
     "traceback": [
      "\u001b[0;31m---------------------------------------------------------------------------\u001b[0m",
      "\u001b[0;31mNameError\u001b[0m                                 Traceback (most recent call last)",
      "\u001b[0;32m<ipython-input-3-cf99bf2a3391>\u001b[0m in \u001b[0;36m<module>\u001b[0;34m\u001b[0m\n\u001b[0;32m----> 1\u001b[0;31m \u001b[0mBis_account\u001b[0m\u001b[0;34m.\u001b[0m\u001b[0mshape\u001b[0m\u001b[0;34m\u001b[0m\u001b[0;34m\u001b[0m\u001b[0m\n\u001b[0m",
      "\u001b[0;31mNameError\u001b[0m: name 'Bis_account' is not defined"
     ]
    }
   ],
   "source": [
    "Bis_account.shape"
   ]
  },
  {
   "cell_type": "code",
   "execution_count": 4,
   "id": "888f4d91",
   "metadata": {},
   "outputs": [
    {
     "ename": "NameError",
     "evalue": "name 'contacts' is not defined",
     "output_type": "error",
     "traceback": [
      "\u001b[0;31m---------------------------------------------------------------------------\u001b[0m",
      "\u001b[0;31mNameError\u001b[0m                                 Traceback (most recent call last)",
      "\u001b[0;32m<ipython-input-4-32d272446908>\u001b[0m in \u001b[0;36m<module>\u001b[0;34m\u001b[0m\n\u001b[0;32m----> 1\u001b[0;31m \u001b[0mcontacts\u001b[0m\u001b[0;34m.\u001b[0m\u001b[0mshape\u001b[0m\u001b[0;34m\u001b[0m\u001b[0;34m\u001b[0m\u001b[0m\n\u001b[0m",
      "\u001b[0;31mNameError\u001b[0m: name 'contacts' is not defined"
     ]
    }
   ],
   "source": [
    "contacts.shape"
   ]
  },
  {
   "cell_type": "code",
   "execution_count": 5,
   "id": "ce1b8e8a",
   "metadata": {},
   "outputs": [
    {
     "ename": "NameError",
     "evalue": "name 'final_data' is not defined",
     "output_type": "error",
     "traceback": [
      "\u001b[0;31m---------------------------------------------------------------------------\u001b[0m",
      "\u001b[0;31mNameError\u001b[0m                                 Traceback (most recent call last)",
      "\u001b[0;32m<ipython-input-5-4e426a5e75af>\u001b[0m in \u001b[0;36m<module>\u001b[0;34m\u001b[0m\n\u001b[0;32m----> 1\u001b[0;31m \u001b[0mfinal_data\u001b[0m\u001b[0;34m.\u001b[0m\u001b[0mhead\u001b[0m\u001b[0;34m(\u001b[0m\u001b[0;36m100\u001b[0m\u001b[0;34m)\u001b[0m\u001b[0;34m\u001b[0m\u001b[0;34m\u001b[0m\u001b[0m\n\u001b[0m",
      "\u001b[0;31mNameError\u001b[0m: name 'final_data' is not defined"
     ]
    }
   ],
   "source": [
    "final_data.head(100)"
   ]
  },
  {
   "cell_type": "code",
   "execution_count": null,
   "id": "acb22ad7",
   "metadata": {},
   "outputs": [],
   "source": [
    "final_data.columns"
   ]
  },
  {
   "cell_type": "code",
   "execution_count": null,
   "id": "6d0bf747",
   "metadata": {},
   "outputs": [],
   "source": [
    "columns_to_keep = ['Actual Close Date','Business Account', 'Type', 'Class Name_x','Amount received', 'Activity sector','City_x','Country Name_x','Follow-up with_x','Status','Financing preference','Type de financement','Type de contrat','Action financée','Programme financé']"
   ]
  },
  {
   "cell_type": "code",
   "execution_count": null,
   "id": "e49086e9",
   "metadata": {},
   "outputs": [],
   "source": [
    "df=final_data[columns_to_keep]"
   ]
  },
  {
   "cell_type": "code",
   "execution_count": null,
   "id": "9ff1e6dc",
   "metadata": {},
   "outputs": [],
   "source": [
    "for k in range(len(df)):\n",
    "    bus_acc = df.iloc[k]['Business Account']\n",
    "    if pd.isna(df.iloc[k]['Financing preference']):\n",
    "        result_df = df[df['Business Account'] == bus_acc]\n",
    "        for j in range(len(result_df)):\n",
    "            if not pd.isna(result_df.iloc[j]['Financing preference']):\n",
    "                df.at[k, 'Financing preference'] = result_df.iloc[j]['Financing preference']\n",
    "                break\n",
    "\n",
    "# Replace remaining 'nan' values for financial preferences by 'no-pref'\n",
    "for k in range(len(df)):\n",
    "    if pd.isna(df.iloc[k]['Financing preference']):\n",
    "        df.at[k, 'Financing preference'] = 'no preference'\n",
    "\n",
    "        # Replace remaining 'nan' values for financial preferences by 'no-pref'\n",
    "for k in range(len(df)):\n",
    "    if pd.isna(df.iloc[k]['Amount received']):\n",
    "        df.at[k, 'Amount received'] = 0"
   ]
  },
  {
   "cell_type": "code",
   "execution_count": null,
   "id": "88ba00c5",
   "metadata": {},
   "outputs": [],
   "source": [
    "df.head(100)"
   ]
  },
  {
   "cell_type": "code",
   "execution_count": null,
   "id": "dcc3f27f",
   "metadata": {},
   "outputs": [],
   "source": [
    "df.loc[150,'Financing preference']"
   ]
  },
  {
   "cell_type": "code",
   "execution_count": null,
   "id": "3901b810",
   "metadata": {},
   "outputs": [],
   "source": [
    "type(df.loc[150,'Financing preference'])"
   ]
  },
  {
   "cell_type": "code",
   "execution_count": null,
   "id": "ed251025",
   "metadata": {},
   "outputs": [],
   "source": [
    "a=df.loc[150,'Financing preference']\n",
    "a=a.replace(\",\", \"\")"
   ]
  },
  {
   "cell_type": "code",
   "execution_count": null,
   "id": "6dcb405e",
   "metadata": {},
   "outputs": [],
   "source": [
    "b=a.split()"
   ]
  },
  {
   "cell_type": "code",
   "execution_count": null,
   "id": "4b232e06",
   "metadata": {},
   "outputs": [],
   "source": [
    "print(b)"
   ]
  },
  {
   "cell_type": "code",
   "execution_count": null,
   "id": "be1fd374",
   "metadata": {},
   "outputs": [],
   "source": [
    "Event=['But','Gala','Jogg','Olympics','Ceremony']\n",
    "inter_event= list(set(['But']) & set(Event))\n",
    "print(inter_event)\n",
    "print(set('But'))"
   ]
  },
  {
   "cell_type": "code",
   "execution_count": null,
   "id": "3c553623",
   "metadata": {},
   "outputs": [],
   "source": [
    "Event=['But','Gala','Jogg','Olympics','Ceremony']\n",
    "Sponsor=['Sponsorship']\n",
    "Emploi=['Apprenticeship','Entrepreneur']\n",
    "\n",
    "\n",
    "def replace_words(string):\n",
    "    Event=['But','Gala','Jogg','Olympics','Ceremony']\n",
    "    Sponsor=['Sponsorship']\n",
    "    Emploi=['Apprenticeship','Entrepreneur']\n",
    "        \n",
    "    string=string.replace(\",\", \"\")\n",
    "    lst=string.split()\n",
    "    \n",
    "    L=[]\n",
    "    inter_event= list(set(lst) & set(Event))\n",
    "    inter_Sponsor= list(set(lst) & set(Sponsor))\n",
    "    inter_Emploi= list(set(lst) & set(Emploi))\n",
    "    if inter_event:\n",
    "        L.append('Event')\n",
    "    if inter_Sponsor:\n",
    "        L.append('Sponsor')\n",
    "    if inter_Emploi:\n",
    "        L.append('Emploi')\n",
    "    \n",
    "    if L:\n",
    "        return L\n",
    "    else : \n",
    "        return ['no preference']\n",
    "# def replace_words(string):\n",
    "#     lst=string.split(',')\n",
    "#     for i in range(len(lst)):\n",
    "#         for word in Event:\n",
    "#             if word in lst[i]:\n",
    "#                 lst[i] = 'Event'\n",
    "        \n",
    "#         for word2 in Sponsor:\n",
    "#             if lst[i] in ['BUT', 'GALA', 'JOGG']:\n",
    "#                 lst[i] = 'EVENT'\n",
    "        \n",
    "#         for word3 in Emploi:\n",
    "            \n",
    "\n",
    "#     return lst\n",
    "replace_words(\"Bus de Paris, Olympics, Entrepreneur\")"
   ]
  },
  {
   "cell_type": "code",
   "execution_count": null,
   "id": "1228bf1d",
   "metadata": {},
   "outputs": [],
   "source": [
    "df['Financing preference']=df['Financing preference'].apply(replace_words)"
   ]
  },
  {
   "cell_type": "code",
   "execution_count": null,
   "id": "6c625f96",
   "metadata": {},
   "outputs": [],
   "source": [
    "df.head(30)\n",
    "df[\"Status\"]"
   ]
  },
  {
   "cell_type": "code",
   "execution_count": null,
   "id": "738de746",
   "metadata": {},
   "outputs": [],
   "source": [
    "Amount_tot_nopref=0\n",
    "Won=0\n",
    "\n",
    "d_amount={'no preference':0,'Event':0,'Emploi':0,'Sponsor':0}\n",
    "\n",
    "d_won={'no preference':0,'Event':0,'Emploi':0,'Sponsor':0}\n",
    "d_occ = {'no preference':0,'Event':0,'Emploi':0,'Sponsor':0}\n",
    "\n",
    "for i in range(len(df)):\n",
    "    L=df.loc[i,'Financing preference']\n",
    "    for fp in L:\n",
    "            d_amount[fp]+=df.loc[i,'Amount received']\n",
    "            if df.loc[i,'Status']==\"Won\":\n",
    "                d_won[fp]+=1\n",
    "            else:\n",
    "                d_won[fp]=d_won[fp]                \n",
    "            d_occ[fp]+=1\n",
    "            \n",
    "\n",
    "            \n",
    "\n",
    "\n",
    "            \n",
    "\n",
    "    \n",
    "    \n",
    "                \n",
    "            \n",
    "\n",
    "            \n"
   ]
  },
  {
   "cell_type": "code",
   "execution_count": null,
   "id": "c1eb133e",
   "metadata": {},
   "outputs": [],
   "source": [
    "print(d_amount)\n",
    "print(d_won)\n",
    "print(d_occ)"
   ]
  },
  {
   "cell_type": "code",
   "execution_count": null,
   "id": "1b8325e1",
   "metadata": {},
   "outputs": [],
   "source": [
    "desired_year= 2023\n",
    "\n",
    "for i in range(len(df):\n",
    "    df.at[i,'Actual Close Date'] = pd.to_datetime(df.loc[i,'Actual Close Date'])\n",
    "               \n",
    "df_year=df[df['Actual Close Date'].dt.year== desired_year]\n",
    "               \n",
    "df=df_year"
   ]
  },
  {
   "cell_type": "code",
   "execution_count": null,
   "id": "181e8a82",
   "metadata": {},
   "outputs": [],
   "source": [
    "print(result)\n",
    "import numpy as np\n",
    "r1=[1.330981e+08, 1.629669e+08, 8.934794e+07, 83425255.56]\n",
    "sum_amount = np.sum(r1)\n",
    "r1= np.array(r1)*100/sum_amount \n",
    "\n",
    "r2 = [3.891000e+03,  1.181100e+04,  8.907000e+03,     4496.00]\n",
    "\n",
    "r3=[8.377000e+03, 1.651200e+04,  1.183300e+04,      6104.00]\n",
    "r4=[100*r2[i]/r3[i] for i in range(len(r2))]\n",
    "\n"
   ]
  },
  {
   "cell_type": "code",
   "execution_count": null,
   "id": "ed053934",
   "metadata": {},
   "outputs": [],
   "source": [
    "data_hist = {\n",
    "    'Category': ['no preference', 'Event', 'Emploi', 'Sponsor'],\n",
    "    'Row1': r1,\n",
    "    'Row2': r4\n",
    "}\n",
    "print(data_hist)\n",
    "df_hist = pd.DataFrame(data_hist)"
   ]
  },
  {
   "cell_type": "code",
   "execution_count": null,
   "id": "41f9c356",
   "metadata": {},
   "outputs": [],
   "source": [
    "import matplotlib.pyplot as plt\n",
    "\n",
    "fig, ax = plt.subplots()\n",
    "width = 0.35\n",
    "x = range(len(df_hist['Category']))\n",
    "bar1 = ax.bar(x, df_hist['Row1'], width, label='Row 1', color='b')\n",
    "ax2 = ax.twinx()\n",
    "bar2 = ax2.bar([i + width for i in x], df_hist['Row2'], width, label='Row 2', color='g')\n",
    "\n",
    "# Set the X-axis labels\n",
    "ax.set_xticks([i + width/2 for i in x])\n",
    "ax.set_xticklabels(df_hist['Category'])\n",
    "plt.xticks(rotation=45)  # Rotate X-axis labels for better readability\n",
    "\n",
    "ax.set_ylabel('Amount ratio', color='b')\n",
    "\n",
    "# Set labels for the secondary Y-axis\n",
    "ax2.set_ylabel('Win ratio', color='g')\n",
    "\n",
    "# Add a common legend\n",
    "bars = [bar1, bar2]\n",
    "labels = [bar.get_label() for bar in bars]\n",
    "ax.legend(bars, labels)\n",
    "ax.get_legend().remove()\n",
    "\n",
    "plt.tight_layout()\n",
    "plt.savefig('Histo_png', dpi=300)\n",
    "plt.show()"
   ]
  },
  {
   "cell_type": "code",
   "execution_count": null,
   "id": "89f478ac",
   "metadata": {},
   "outputs": [],
   "source": [
    "import numpy as np \n",
    "\n",
    "n=4\n",
    "r1=[1.330981e+08, 1.629669e+08, 8.934794e+07, 83425255.56]\n",
    "sum_amount = np.sum(r1)\n",
    "r1= np.array(r1)/sum_amount \n",
    "\n",
    "r2 = [3.891000e+03,  1.181100e+04,  8.907000e+03,     4496.00]\n",
    "\n",
    "r3=[8.377000e+03, 1.651200e+04,  1.183300e+04,      6104.00]\n",
    "r4=[100*r2[i]/r3[i] for i in range(len(r2))]\n",
    "\n",
    "plt.bar(r1,r1, color=\"r\", label='r1' )\n",
    "plt.bar(r2, [0.5+i for i in range(n)], color=\"b\", label='r2' )\n",
    "plt.legend()\n",
    "plt.show()"
   ]
  }
 ],
 "metadata": {
  "kernelspec": {
   "display_name": "Python 3",
   "language": "python",
   "name": "python3"
  },
  "language_info": {
   "codemirror_mode": {
    "name": "ipython",
    "version": 3
   },
   "file_extension": ".py",
   "mimetype": "text/x-python",
   "name": "python",
   "nbconvert_exporter": "python",
   "pygments_lexer": "ipython3",
   "version": "3.7.3"
  }
 },
 "nbformat": 4,
 "nbformat_minor": 5
}
